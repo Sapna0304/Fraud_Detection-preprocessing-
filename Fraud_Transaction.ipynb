{
  "nbformat": 4,
  "nbformat_minor": 0,
  "metadata": {
    "colab": {
      "provenance": [],
      "authorship_tag": "ABX9TyNVC2DmH1ERarqx70LKCsdu",
      "include_colab_link": true
    },
    "kernelspec": {
      "name": "python3",
      "display_name": "Python 3"
    },
    "language_info": {
      "name": "python"
    }
  },
  "cells": [
    {
      "cell_type": "markdown",
      "metadata": {
        "id": "view-in-github",
        "colab_type": "text"
      },
      "source": [
        "<a href=\"https://colab.research.google.com/github/Sapna0304/Fraud_Detection-preprocessing-/blob/Sapna0304/Fraud_Transaction.ipynb\" target=\"_parent\"><img src=\"https://colab.research.google.com/assets/colab-badge.svg\" alt=\"Open In Colab\"/></a>"
      ]
    },
    {
      "cell_type": "markdown",
      "source": [
        "#### BUSINESS PROBLEM\n",
        "\n",
        "A new disruptive payment gateway start-up, ‘IndAvenue’, has started gaining traction due to its extremely low processing fees for handling online vendors’ digital payments. This strategy has led to very low costs of acquiring new vendors. Due to this,the company was not able to build a fast and robust fraud detection system. The company’s data engineers curated a dataset that they believe follows the real world distribution of transactions on their payment gateway. The company hired Insofe and provided it with the dataset, to create a fast and robust AI based model that can detect and prevent fraudulent transactions on its payment gateway."
      ],
      "metadata": {
        "id": "Fcfxqm2DTDxx"
      }
    },
    {
      "cell_type": "code",
      "execution_count": 34,
      "metadata": {
        "id": "px8fMS8n6zGl"
      },
      "outputs": [],
      "source": [
        "import pandas as pd                 # Pandas for Data Manipulation\n",
        "import numpy as np                  # Numpy For Mathematical Operations\n",
        "import matplotlib.pyplot as plt     # Matplotlib for Data Visualization\n",
        "import seaborn as sns               # Seaborn for Data visualization\n",
        "import plotly.express as px         # Plotly for visualization\n",
        "import warnings                     # Warnings to ignore warnings\n",
        "warnings.filterwarnings('ignore')\n",
        "from sklearn.model_selection import train_test_split\n",
        "from sklearn.preprocessing import StandardScaler\n",
        "from sklearn import metrics\n",
        "from sklearn.metrics import classification_report"
      ]
    },
    {
      "cell_type": "code",
      "source": [
        "train = pd.read_csv('/content/MiTh_train.csv')\n",
        "test = pd.read_csv('/content/Mith_test.csv')"
      ],
      "metadata": {
        "id": "PjzbmCIjWl7T"
      },
      "execution_count": 35,
      "outputs": []
    },
    {
      "cell_type": "code",
      "source": [
        "train"
      ],
      "metadata": {
        "colab": {
          "base_uri": "https://localhost:8080/"
        },
        "id": "JT_kGPZGpqig",
        "outputId": "33e03463-b7b3-4a89-d790-df06b8c644d6"
      },
      "execution_count": 36,
      "outputs": [
        {
          "output_type": "execute_result",
          "data": {
            "text/plain": [
              "       transaction_number   user_id           payment_method  partner_id  \\\n",
              "0            144703125000  17539344   sbi_atm_cum_debit_card       47334   \n",
              "1          77406814453032  24710841        e_wallet_payments       78890   \n",
              "2         308929485482801  24265476        e_wallet_payments       78890   \n",
              "3         665270027747073  10240000        other_debit_cards      102557   \n",
              "4          38276160171101   5880625        other_debit_cards      118335   \n",
              "...                   ...       ...                      ...         ...   \n",
              "76524     179759462245453  19686969   sbi_atm_cum_debit_card       47334   \n",
              "76525    2693567760244353  11662225  visa_master_debit_cards      118335   \n",
              "76526     119750257089000    374544   sbi_atm_cum_debit_card       47334   \n",
              "76527    1949798765017089   1687401   sbi_atm_cum_debit_card       47334   \n",
              "76528    1051344513778987   6754801   sbi_atm_cum_debit_card       47334   \n",
              "\n",
              "      partner_category  country      device_type  money_transacted  \\\n",
              "0                cat_1  IND_INR  android_devices              -5.0   \n",
              "1                cat_2  IND_INR        other_pcs             100.0   \n",
              "2                cat_2  IND_INR        other_pcs              50.0   \n",
              "3                cat_3  IND_INR        other_pcs            1000.0   \n",
              "4                cat_1  IND_INR        other_pcs             200.0   \n",
              "...                ...      ...              ...               ...   \n",
              "76524            cat_1  IND_INR  android_devices            -100.0   \n",
              "76525            cat_1  IND_INR        other_pcs             200.0   \n",
              "76526            cat_1  IND_INR  android_devices              -3.5   \n",
              "76527            cat_1  IND_INR  android_devices             -20.0   \n",
              "76528            cat_1  IND_INR  android_devices            -100.0   \n",
              "\n",
              "          transaction_initiation  partner_pricing_category  is_fraud  \n",
              "0      2016-11-15 19:16:12+00:00                         2         0  \n",
              "1      2017-01-11 09:25:33+00:00                         2         0  \n",
              "2      2016-12-07 07:58:09+00:00                         2         0  \n",
              "3      2017-01-11 16:15:44+00:00                         2         0  \n",
              "4      2016-11-16 17:04:42+00:00                         2         0  \n",
              "...                          ...                       ...       ...  \n",
              "76524  2016-11-30 13:40:45+00:00                         2         0  \n",
              "76525  2017-01-08 08:35:31+00:00                         2         0  \n",
              "76526  2016-12-26 21:47:08+00:00                         2         0  \n",
              "76527  2016-12-11 13:44:06+00:00                         2         0  \n",
              "76528  2017-01-11 19:08:18+00:00                         2         0  \n",
              "\n",
              "[76529 rows x 11 columns]"
            ],
            "text/html": [
              "\n",
              "  <div id=\"df-9f1a9dc5-6f45-4003-9286-64365a6d4fb3\">\n",
              "    <div class=\"colab-df-container\">\n",
              "      <div>\n",
              "<style scoped>\n",
              "    .dataframe tbody tr th:only-of-type {\n",
              "        vertical-align: middle;\n",
              "    }\n",
              "\n",
              "    .dataframe tbody tr th {\n",
              "        vertical-align: top;\n",
              "    }\n",
              "\n",
              "    .dataframe thead th {\n",
              "        text-align: right;\n",
              "    }\n",
              "</style>\n",
              "<table border=\"1\" class=\"dataframe\">\n",
              "  <thead>\n",
              "    <tr style=\"text-align: right;\">\n",
              "      <th></th>\n",
              "      <th>transaction_number</th>\n",
              "      <th>user_id</th>\n",
              "      <th>payment_method</th>\n",
              "      <th>partner_id</th>\n",
              "      <th>partner_category</th>\n",
              "      <th>country</th>\n",
              "      <th>device_type</th>\n",
              "      <th>money_transacted</th>\n",
              "      <th>transaction_initiation</th>\n",
              "      <th>partner_pricing_category</th>\n",
              "      <th>is_fraud</th>\n",
              "    </tr>\n",
              "  </thead>\n",
              "  <tbody>\n",
              "    <tr>\n",
              "      <th>0</th>\n",
              "      <td>144703125000</td>\n",
              "      <td>17539344</td>\n",
              "      <td>sbi_atm_cum_debit_card</td>\n",
              "      <td>47334</td>\n",
              "      <td>cat_1</td>\n",
              "      <td>IND_INR</td>\n",
              "      <td>android_devices</td>\n",
              "      <td>-5.0</td>\n",
              "      <td>2016-11-15 19:16:12+00:00</td>\n",
              "      <td>2</td>\n",
              "      <td>0</td>\n",
              "    </tr>\n",
              "    <tr>\n",
              "      <th>1</th>\n",
              "      <td>77406814453032</td>\n",
              "      <td>24710841</td>\n",
              "      <td>e_wallet_payments</td>\n",
              "      <td>78890</td>\n",
              "      <td>cat_2</td>\n",
              "      <td>IND_INR</td>\n",
              "      <td>other_pcs</td>\n",
              "      <td>100.0</td>\n",
              "      <td>2017-01-11 09:25:33+00:00</td>\n",
              "      <td>2</td>\n",
              "      <td>0</td>\n",
              "    </tr>\n",
              "    <tr>\n",
              "      <th>2</th>\n",
              "      <td>308929485482801</td>\n",
              "      <td>24265476</td>\n",
              "      <td>e_wallet_payments</td>\n",
              "      <td>78890</td>\n",
              "      <td>cat_2</td>\n",
              "      <td>IND_INR</td>\n",
              "      <td>other_pcs</td>\n",
              "      <td>50.0</td>\n",
              "      <td>2016-12-07 07:58:09+00:00</td>\n",
              "      <td>2</td>\n",
              "      <td>0</td>\n",
              "    </tr>\n",
              "    <tr>\n",
              "      <th>3</th>\n",
              "      <td>665270027747073</td>\n",
              "      <td>10240000</td>\n",
              "      <td>other_debit_cards</td>\n",
              "      <td>102557</td>\n",
              "      <td>cat_3</td>\n",
              "      <td>IND_INR</td>\n",
              "      <td>other_pcs</td>\n",
              "      <td>1000.0</td>\n",
              "      <td>2017-01-11 16:15:44+00:00</td>\n",
              "      <td>2</td>\n",
              "      <td>0</td>\n",
              "    </tr>\n",
              "    <tr>\n",
              "      <th>4</th>\n",
              "      <td>38276160171101</td>\n",
              "      <td>5880625</td>\n",
              "      <td>other_debit_cards</td>\n",
              "      <td>118335</td>\n",
              "      <td>cat_1</td>\n",
              "      <td>IND_INR</td>\n",
              "      <td>other_pcs</td>\n",
              "      <td>200.0</td>\n",
              "      <td>2016-11-16 17:04:42+00:00</td>\n",
              "      <td>2</td>\n",
              "      <td>0</td>\n",
              "    </tr>\n",
              "    <tr>\n",
              "      <th>...</th>\n",
              "      <td>...</td>\n",
              "      <td>...</td>\n",
              "      <td>...</td>\n",
              "      <td>...</td>\n",
              "      <td>...</td>\n",
              "      <td>...</td>\n",
              "      <td>...</td>\n",
              "      <td>...</td>\n",
              "      <td>...</td>\n",
              "      <td>...</td>\n",
              "      <td>...</td>\n",
              "    </tr>\n",
              "    <tr>\n",
              "      <th>76524</th>\n",
              "      <td>179759462245453</td>\n",
              "      <td>19686969</td>\n",
              "      <td>sbi_atm_cum_debit_card</td>\n",
              "      <td>47334</td>\n",
              "      <td>cat_1</td>\n",
              "      <td>IND_INR</td>\n",
              "      <td>android_devices</td>\n",
              "      <td>-100.0</td>\n",
              "      <td>2016-11-30 13:40:45+00:00</td>\n",
              "      <td>2</td>\n",
              "      <td>0</td>\n",
              "    </tr>\n",
              "    <tr>\n",
              "      <th>76525</th>\n",
              "      <td>2693567760244353</td>\n",
              "      <td>11662225</td>\n",
              "      <td>visa_master_debit_cards</td>\n",
              "      <td>118335</td>\n",
              "      <td>cat_1</td>\n",
              "      <td>IND_INR</td>\n",
              "      <td>other_pcs</td>\n",
              "      <td>200.0</td>\n",
              "      <td>2017-01-08 08:35:31+00:00</td>\n",
              "      <td>2</td>\n",
              "      <td>0</td>\n",
              "    </tr>\n",
              "    <tr>\n",
              "      <th>76526</th>\n",
              "      <td>119750257089000</td>\n",
              "      <td>374544</td>\n",
              "      <td>sbi_atm_cum_debit_card</td>\n",
              "      <td>47334</td>\n",
              "      <td>cat_1</td>\n",
              "      <td>IND_INR</td>\n",
              "      <td>android_devices</td>\n",
              "      <td>-3.5</td>\n",
              "      <td>2016-12-26 21:47:08+00:00</td>\n",
              "      <td>2</td>\n",
              "      <td>0</td>\n",
              "    </tr>\n",
              "    <tr>\n",
              "      <th>76527</th>\n",
              "      <td>1949798765017089</td>\n",
              "      <td>1687401</td>\n",
              "      <td>sbi_atm_cum_debit_card</td>\n",
              "      <td>47334</td>\n",
              "      <td>cat_1</td>\n",
              "      <td>IND_INR</td>\n",
              "      <td>android_devices</td>\n",
              "      <td>-20.0</td>\n",
              "      <td>2016-12-11 13:44:06+00:00</td>\n",
              "      <td>2</td>\n",
              "      <td>0</td>\n",
              "    </tr>\n",
              "    <tr>\n",
              "      <th>76528</th>\n",
              "      <td>1051344513778987</td>\n",
              "      <td>6754801</td>\n",
              "      <td>sbi_atm_cum_debit_card</td>\n",
              "      <td>47334</td>\n",
              "      <td>cat_1</td>\n",
              "      <td>IND_INR</td>\n",
              "      <td>android_devices</td>\n",
              "      <td>-100.0</td>\n",
              "      <td>2017-01-11 19:08:18+00:00</td>\n",
              "      <td>2</td>\n",
              "      <td>0</td>\n",
              "    </tr>\n",
              "  </tbody>\n",
              "</table>\n",
              "<p>76529 rows × 11 columns</p>\n",
              "</div>\n",
              "      <button class=\"colab-df-convert\" onclick=\"convertToInteractive('df-9f1a9dc5-6f45-4003-9286-64365a6d4fb3')\"\n",
              "              title=\"Convert this dataframe to an interactive table.\"\n",
              "              style=\"display:none;\">\n",
              "        \n",
              "  <svg xmlns=\"http://www.w3.org/2000/svg\" height=\"24px\"viewBox=\"0 0 24 24\"\n",
              "       width=\"24px\">\n",
              "    <path d=\"M0 0h24v24H0V0z\" fill=\"none\"/>\n",
              "    <path d=\"M18.56 5.44l.94 2.06.94-2.06 2.06-.94-2.06-.94-.94-2.06-.94 2.06-2.06.94zm-11 1L8.5 8.5l.94-2.06 2.06-.94-2.06-.94L8.5 2.5l-.94 2.06-2.06.94zm10 10l.94 2.06.94-2.06 2.06-.94-2.06-.94-.94-2.06-.94 2.06-2.06.94z\"/><path d=\"M17.41 7.96l-1.37-1.37c-.4-.4-.92-.59-1.43-.59-.52 0-1.04.2-1.43.59L10.3 9.45l-7.72 7.72c-.78.78-.78 2.05 0 2.83L4 21.41c.39.39.9.59 1.41.59.51 0 1.02-.2 1.41-.59l7.78-7.78 2.81-2.81c.8-.78.8-2.07 0-2.86zM5.41 20L4 18.59l7.72-7.72 1.47 1.35L5.41 20z\"/>\n",
              "  </svg>\n",
              "      </button>\n",
              "      \n",
              "  <style>\n",
              "    .colab-df-container {\n",
              "      display:flex;\n",
              "      flex-wrap:wrap;\n",
              "      gap: 12px;\n",
              "    }\n",
              "\n",
              "    .colab-df-convert {\n",
              "      background-color: #E8F0FE;\n",
              "      border: none;\n",
              "      border-radius: 50%;\n",
              "      cursor: pointer;\n",
              "      display: none;\n",
              "      fill: #1967D2;\n",
              "      height: 32px;\n",
              "      padding: 0 0 0 0;\n",
              "      width: 32px;\n",
              "    }\n",
              "\n",
              "    .colab-df-convert:hover {\n",
              "      background-color: #E2EBFA;\n",
              "      box-shadow: 0px 1px 2px rgba(60, 64, 67, 0.3), 0px 1px 3px 1px rgba(60, 64, 67, 0.15);\n",
              "      fill: #174EA6;\n",
              "    }\n",
              "\n",
              "    [theme=dark] .colab-df-convert {\n",
              "      background-color: #3B4455;\n",
              "      fill: #D2E3FC;\n",
              "    }\n",
              "\n",
              "    [theme=dark] .colab-df-convert:hover {\n",
              "      background-color: #434B5C;\n",
              "      box-shadow: 0px 1px 3px 1px rgba(0, 0, 0, 0.15);\n",
              "      filter: drop-shadow(0px 1px 2px rgba(0, 0, 0, 0.3));\n",
              "      fill: #FFFFFF;\n",
              "    }\n",
              "  </style>\n",
              "\n",
              "      <script>\n",
              "        const buttonEl =\n",
              "          document.querySelector('#df-9f1a9dc5-6f45-4003-9286-64365a6d4fb3 button.colab-df-convert');\n",
              "        buttonEl.style.display =\n",
              "          google.colab.kernel.accessAllowed ? 'block' : 'none';\n",
              "\n",
              "        async function convertToInteractive(key) {\n",
              "          const element = document.querySelector('#df-9f1a9dc5-6f45-4003-9286-64365a6d4fb3');\n",
              "          const dataTable =\n",
              "            await google.colab.kernel.invokeFunction('convertToInteractive',\n",
              "                                                     [key], {});\n",
              "          if (!dataTable) return;\n",
              "\n",
              "          const docLinkHtml = 'Like what you see? Visit the ' +\n",
              "            '<a target=\"_blank\" href=https://colab.research.google.com/notebooks/data_table.ipynb>data table notebook</a>'\n",
              "            + ' to learn more about interactive tables.';\n",
              "          element.innerHTML = '';\n",
              "          dataTable['output_type'] = 'display_data';\n",
              "          await google.colab.output.renderOutput(dataTable, element);\n",
              "          const docLink = document.createElement('div');\n",
              "          docLink.innerHTML = docLinkHtml;\n",
              "          element.appendChild(docLink);\n",
              "        }\n",
              "      </script>\n",
              "    </div>\n",
              "  </div>\n",
              "  "
            ]
          },
          "metadata": {},
          "execution_count": 36
        }
      ]
    },
    {
      "cell_type": "code",
      "source": [
        "test"
      ],
      "metadata": {
        "id": "9Xzk7z9YpubB",
        "outputId": "649fd5ce-1a57-4502-d8f4-078b7a416e78",
        "colab": {
          "base_uri": "https://localhost:8080/"
        }
      },
      "execution_count": 37,
      "outputs": [
        {
          "output_type": "execute_result",
          "data": {
            "text/plain": [
              "       transaction_number   user_id            payment_method  partner_id  \\\n",
              "0         857050141038272   3802500   visa_master_debit_cards      118335   \n",
              "1           4400462872603    200704         e_wallet_payments       23667   \n",
              "2        1207915598569499  25150225    sbi_atm_cum_debit_card       47334   \n",
              "3        2009725616777536  21827584  visa_master_credit_cards       78890   \n",
              "4        2319205210274863    576081         e_wallet_payments       23667   \n",
              "...                   ...       ...                       ...         ...   \n",
              "19128       5332775378111  13235044         e_wallet_payments       23667   \n",
              "19129     939262915465237  12257001         e_wallet_payments       78890   \n",
              "19130      18324574916544   5958481   visa_master_debit_cards       23667   \n",
              "19131     893473728055875  53919649    sbi_atm_cum_debit_card       78890   \n",
              "19132      84390778936647  14500864         e_wallet_payments       78890   \n",
              "\n",
              "      partner_category  country      device_type  money_transacted  \\\n",
              "0                cat_1  IND_INR        other_pcs             200.0   \n",
              "1                cat_2  IND_INR        other_pcs              20.0   \n",
              "2                cat_1  IND_INR  android_devices            -100.0   \n",
              "3                cat_2  IND_INR        other_pcs             200.0   \n",
              "4                cat_2  IND_INR        other_pcs             100.0   \n",
              "...                ...      ...              ...               ...   \n",
              "19128            cat_2  IND_INR        other_pcs              20.0   \n",
              "19129            cat_2  IND_INR        other_pcs              30.0   \n",
              "19130            cat_2  IND_INR        other_pcs              20.0   \n",
              "19131            cat_2  IND_INR  android_devices            -500.0   \n",
              "19132            cat_2  IND_INR        other_pcs              40.0   \n",
              "\n",
              "          transaction_initiation  partner_pricing_category  \n",
              "0      2016-12-28 14:44:37+00:00                         2  \n",
              "1      2016-12-14 17:49:48+00:00                         2  \n",
              "2      2017-01-21 10:18:11+00:00                         2  \n",
              "3      2017-01-16 13:25:10+00:00                         1  \n",
              "4      2017-02-09 12:47:28+00:00                         2  \n",
              "...                          ...                       ...  \n",
              "19128  2017-01-01 13:02:16+00:00                         2  \n",
              "19129  2016-12-26 19:41:23+00:00                         2  \n",
              "19130  2016-12-24 04:29:06+00:00                         4  \n",
              "19131  2016-12-04 15:38:47+00:00                         4  \n",
              "19132  2017-01-12 21:24:24+00:00                         2  \n",
              "\n",
              "[19133 rows x 10 columns]"
            ],
            "text/html": [
              "\n",
              "  <div id=\"df-590a881b-42da-4084-870c-23312d4e4761\">\n",
              "    <div class=\"colab-df-container\">\n",
              "      <div>\n",
              "<style scoped>\n",
              "    .dataframe tbody tr th:only-of-type {\n",
              "        vertical-align: middle;\n",
              "    }\n",
              "\n",
              "    .dataframe tbody tr th {\n",
              "        vertical-align: top;\n",
              "    }\n",
              "\n",
              "    .dataframe thead th {\n",
              "        text-align: right;\n",
              "    }\n",
              "</style>\n",
              "<table border=\"1\" class=\"dataframe\">\n",
              "  <thead>\n",
              "    <tr style=\"text-align: right;\">\n",
              "      <th></th>\n",
              "      <th>transaction_number</th>\n",
              "      <th>user_id</th>\n",
              "      <th>payment_method</th>\n",
              "      <th>partner_id</th>\n",
              "      <th>partner_category</th>\n",
              "      <th>country</th>\n",
              "      <th>device_type</th>\n",
              "      <th>money_transacted</th>\n",
              "      <th>transaction_initiation</th>\n",
              "      <th>partner_pricing_category</th>\n",
              "    </tr>\n",
              "  </thead>\n",
              "  <tbody>\n",
              "    <tr>\n",
              "      <th>0</th>\n",
              "      <td>857050141038272</td>\n",
              "      <td>3802500</td>\n",
              "      <td>visa_master_debit_cards</td>\n",
              "      <td>118335</td>\n",
              "      <td>cat_1</td>\n",
              "      <td>IND_INR</td>\n",
              "      <td>other_pcs</td>\n",
              "      <td>200.0</td>\n",
              "      <td>2016-12-28 14:44:37+00:00</td>\n",
              "      <td>2</td>\n",
              "    </tr>\n",
              "    <tr>\n",
              "      <th>1</th>\n",
              "      <td>4400462872603</td>\n",
              "      <td>200704</td>\n",
              "      <td>e_wallet_payments</td>\n",
              "      <td>23667</td>\n",
              "      <td>cat_2</td>\n",
              "      <td>IND_INR</td>\n",
              "      <td>other_pcs</td>\n",
              "      <td>20.0</td>\n",
              "      <td>2016-12-14 17:49:48+00:00</td>\n",
              "      <td>2</td>\n",
              "    </tr>\n",
              "    <tr>\n",
              "      <th>2</th>\n",
              "      <td>1207915598569499</td>\n",
              "      <td>25150225</td>\n",
              "      <td>sbi_atm_cum_debit_card</td>\n",
              "      <td>47334</td>\n",
              "      <td>cat_1</td>\n",
              "      <td>IND_INR</td>\n",
              "      <td>android_devices</td>\n",
              "      <td>-100.0</td>\n",
              "      <td>2017-01-21 10:18:11+00:00</td>\n",
              "      <td>2</td>\n",
              "    </tr>\n",
              "    <tr>\n",
              "      <th>3</th>\n",
              "      <td>2009725616777536</td>\n",
              "      <td>21827584</td>\n",
              "      <td>visa_master_credit_cards</td>\n",
              "      <td>78890</td>\n",
              "      <td>cat_2</td>\n",
              "      <td>IND_INR</td>\n",
              "      <td>other_pcs</td>\n",
              "      <td>200.0</td>\n",
              "      <td>2017-01-16 13:25:10+00:00</td>\n",
              "      <td>1</td>\n",
              "    </tr>\n",
              "    <tr>\n",
              "      <th>4</th>\n",
              "      <td>2319205210274863</td>\n",
              "      <td>576081</td>\n",
              "      <td>e_wallet_payments</td>\n",
              "      <td>23667</td>\n",
              "      <td>cat_2</td>\n",
              "      <td>IND_INR</td>\n",
              "      <td>other_pcs</td>\n",
              "      <td>100.0</td>\n",
              "      <td>2017-02-09 12:47:28+00:00</td>\n",
              "      <td>2</td>\n",
              "    </tr>\n",
              "    <tr>\n",
              "      <th>...</th>\n",
              "      <td>...</td>\n",
              "      <td>...</td>\n",
              "      <td>...</td>\n",
              "      <td>...</td>\n",
              "      <td>...</td>\n",
              "      <td>...</td>\n",
              "      <td>...</td>\n",
              "      <td>...</td>\n",
              "      <td>...</td>\n",
              "      <td>...</td>\n",
              "    </tr>\n",
              "    <tr>\n",
              "      <th>19128</th>\n",
              "      <td>5332775378111</td>\n",
              "      <td>13235044</td>\n",
              "      <td>e_wallet_payments</td>\n",
              "      <td>23667</td>\n",
              "      <td>cat_2</td>\n",
              "      <td>IND_INR</td>\n",
              "      <td>other_pcs</td>\n",
              "      <td>20.0</td>\n",
              "      <td>2017-01-01 13:02:16+00:00</td>\n",
              "      <td>2</td>\n",
              "    </tr>\n",
              "    <tr>\n",
              "      <th>19129</th>\n",
              "      <td>939262915465237</td>\n",
              "      <td>12257001</td>\n",
              "      <td>e_wallet_payments</td>\n",
              "      <td>78890</td>\n",
              "      <td>cat_2</td>\n",
              "      <td>IND_INR</td>\n",
              "      <td>other_pcs</td>\n",
              "      <td>30.0</td>\n",
              "      <td>2016-12-26 19:41:23+00:00</td>\n",
              "      <td>2</td>\n",
              "    </tr>\n",
              "    <tr>\n",
              "      <th>19130</th>\n",
              "      <td>18324574916544</td>\n",
              "      <td>5958481</td>\n",
              "      <td>visa_master_debit_cards</td>\n",
              "      <td>23667</td>\n",
              "      <td>cat_2</td>\n",
              "      <td>IND_INR</td>\n",
              "      <td>other_pcs</td>\n",
              "      <td>20.0</td>\n",
              "      <td>2016-12-24 04:29:06+00:00</td>\n",
              "      <td>4</td>\n",
              "    </tr>\n",
              "    <tr>\n",
              "      <th>19131</th>\n",
              "      <td>893473728055875</td>\n",
              "      <td>53919649</td>\n",
              "      <td>sbi_atm_cum_debit_card</td>\n",
              "      <td>78890</td>\n",
              "      <td>cat_2</td>\n",
              "      <td>IND_INR</td>\n",
              "      <td>android_devices</td>\n",
              "      <td>-500.0</td>\n",
              "      <td>2016-12-04 15:38:47+00:00</td>\n",
              "      <td>4</td>\n",
              "    </tr>\n",
              "    <tr>\n",
              "      <th>19132</th>\n",
              "      <td>84390778936647</td>\n",
              "      <td>14500864</td>\n",
              "      <td>e_wallet_payments</td>\n",
              "      <td>78890</td>\n",
              "      <td>cat_2</td>\n",
              "      <td>IND_INR</td>\n",
              "      <td>other_pcs</td>\n",
              "      <td>40.0</td>\n",
              "      <td>2017-01-12 21:24:24+00:00</td>\n",
              "      <td>2</td>\n",
              "    </tr>\n",
              "  </tbody>\n",
              "</table>\n",
              "<p>19133 rows × 10 columns</p>\n",
              "</div>\n",
              "      <button class=\"colab-df-convert\" onclick=\"convertToInteractive('df-590a881b-42da-4084-870c-23312d4e4761')\"\n",
              "              title=\"Convert this dataframe to an interactive table.\"\n",
              "              style=\"display:none;\">\n",
              "        \n",
              "  <svg xmlns=\"http://www.w3.org/2000/svg\" height=\"24px\"viewBox=\"0 0 24 24\"\n",
              "       width=\"24px\">\n",
              "    <path d=\"M0 0h24v24H0V0z\" fill=\"none\"/>\n",
              "    <path d=\"M18.56 5.44l.94 2.06.94-2.06 2.06-.94-2.06-.94-.94-2.06-.94 2.06-2.06.94zm-11 1L8.5 8.5l.94-2.06 2.06-.94-2.06-.94L8.5 2.5l-.94 2.06-2.06.94zm10 10l.94 2.06.94-2.06 2.06-.94-2.06-.94-.94-2.06-.94 2.06-2.06.94z\"/><path d=\"M17.41 7.96l-1.37-1.37c-.4-.4-.92-.59-1.43-.59-.52 0-1.04.2-1.43.59L10.3 9.45l-7.72 7.72c-.78.78-.78 2.05 0 2.83L4 21.41c.39.39.9.59 1.41.59.51 0 1.02-.2 1.41-.59l7.78-7.78 2.81-2.81c.8-.78.8-2.07 0-2.86zM5.41 20L4 18.59l7.72-7.72 1.47 1.35L5.41 20z\"/>\n",
              "  </svg>\n",
              "      </button>\n",
              "      \n",
              "  <style>\n",
              "    .colab-df-container {\n",
              "      display:flex;\n",
              "      flex-wrap:wrap;\n",
              "      gap: 12px;\n",
              "    }\n",
              "\n",
              "    .colab-df-convert {\n",
              "      background-color: #E8F0FE;\n",
              "      border: none;\n",
              "      border-radius: 50%;\n",
              "      cursor: pointer;\n",
              "      display: none;\n",
              "      fill: #1967D2;\n",
              "      height: 32px;\n",
              "      padding: 0 0 0 0;\n",
              "      width: 32px;\n",
              "    }\n",
              "\n",
              "    .colab-df-convert:hover {\n",
              "      background-color: #E2EBFA;\n",
              "      box-shadow: 0px 1px 2px rgba(60, 64, 67, 0.3), 0px 1px 3px 1px rgba(60, 64, 67, 0.15);\n",
              "      fill: #174EA6;\n",
              "    }\n",
              "\n",
              "    [theme=dark] .colab-df-convert {\n",
              "      background-color: #3B4455;\n",
              "      fill: #D2E3FC;\n",
              "    }\n",
              "\n",
              "    [theme=dark] .colab-df-convert:hover {\n",
              "      background-color: #434B5C;\n",
              "      box-shadow: 0px 1px 3px 1px rgba(0, 0, 0, 0.15);\n",
              "      filter: drop-shadow(0px 1px 2px rgba(0, 0, 0, 0.3));\n",
              "      fill: #FFFFFF;\n",
              "    }\n",
              "  </style>\n",
              "\n",
              "      <script>\n",
              "        const buttonEl =\n",
              "          document.querySelector('#df-590a881b-42da-4084-870c-23312d4e4761 button.colab-df-convert');\n",
              "        buttonEl.style.display =\n",
              "          google.colab.kernel.accessAllowed ? 'block' : 'none';\n",
              "\n",
              "        async function convertToInteractive(key) {\n",
              "          const element = document.querySelector('#df-590a881b-42da-4084-870c-23312d4e4761');\n",
              "          const dataTable =\n",
              "            await google.colab.kernel.invokeFunction('convertToInteractive',\n",
              "                                                     [key], {});\n",
              "          if (!dataTable) return;\n",
              "\n",
              "          const docLinkHtml = 'Like what you see? Visit the ' +\n",
              "            '<a target=\"_blank\" href=https://colab.research.google.com/notebooks/data_table.ipynb>data table notebook</a>'\n",
              "            + ' to learn more about interactive tables.';\n",
              "          element.innerHTML = '';\n",
              "          dataTable['output_type'] = 'display_data';\n",
              "          await google.colab.output.renderOutput(dataTable, element);\n",
              "          const docLink = document.createElement('div');\n",
              "          docLink.innerHTML = docLinkHtml;\n",
              "          element.appendChild(docLink);\n",
              "        }\n",
              "      </script>\n",
              "    </div>\n",
              "  </div>\n",
              "  "
            ]
          },
          "metadata": {},
          "execution_count": 37
        }
      ]
    },
    {
      "cell_type": "code",
      "source": [
        "train.shape"
      ],
      "metadata": {
        "colab": {
          "base_uri": "https://localhost:8080/"
        },
        "id": "iEvQngniD6Yc",
        "outputId": "0e42e5c2-90aa-4901-aa6f-c270c00119da"
      },
      "execution_count": 38,
      "outputs": [
        {
          "output_type": "execute_result",
          "data": {
            "text/plain": [
              "(76529, 11)"
            ]
          },
          "metadata": {},
          "execution_count": 38
        }
      ]
    },
    {
      "cell_type": "code",
      "source": [
        "test.shape"
      ],
      "metadata": {
        "colab": {
          "base_uri": "https://localhost:8080/"
        },
        "id": "fP2r10iLuRlr",
        "outputId": "251fdff0-d4f5-43c2-b461-4358f0944511"
      },
      "execution_count": 39,
      "outputs": [
        {
          "output_type": "execute_result",
          "data": {
            "text/plain": [
              "(19133, 10)"
            ]
          },
          "metadata": {},
          "execution_count": 39
        }
      ]
    },
    {
      "cell_type": "code",
      "source": [
        "train.keys()"
      ],
      "metadata": {
        "colab": {
          "base_uri": "https://localhost:8080/"
        },
        "id": "jNec0ECxnqhk",
        "outputId": "a42107c6-e372-4a47-dd75-38d7880e053b"
      },
      "execution_count": 40,
      "outputs": [
        {
          "output_type": "execute_result",
          "data": {
            "text/plain": [
              "Index(['transaction_number', 'user_id', 'payment_method', 'partner_id',\n",
              "       'partner_category', 'country', 'device_type', 'money_transacted',\n",
              "       'transaction_initiation', 'partner_pricing_category', 'is_fraud'],\n",
              "      dtype='object')"
            ]
          },
          "metadata": {},
          "execution_count": 40
        }
      ]
    },
    {
      "cell_type": "code",
      "source": [
        "print(train.country)"
      ],
      "metadata": {
        "colab": {
          "base_uri": "https://localhost:8080/"
        },
        "id": "1RzYU446n8Xu",
        "outputId": "b91edf84-017b-4d19-e515-38368c5ccedb"
      },
      "execution_count": 41,
      "outputs": [
        {
          "output_type": "stream",
          "name": "stdout",
          "text": [
            "0        IND_INR\n",
            "1        IND_INR\n",
            "2        IND_INR\n",
            "3        IND_INR\n",
            "4        IND_INR\n",
            "          ...   \n",
            "76524    IND_INR\n",
            "76525    IND_INR\n",
            "76526    IND_INR\n",
            "76527    IND_INR\n",
            "76528    IND_INR\n",
            "Name: country, Length: 76529, dtype: object\n"
          ]
        }
      ]
    },
    {
      "cell_type": "markdown",
      "source": [
        "Checking Null Values"
      ],
      "metadata": {
        "id": "u8r2YUDJ_Wn9"
      }
    },
    {
      "cell_type": "code",
      "source": [
        "train.isna().sum()"
      ],
      "metadata": {
        "id": "JOymxUXPpwyZ",
        "colab": {
          "base_uri": "https://localhost:8080/"
        },
        "outputId": "752e6463-bf8c-46cc-8e3d-4ff309b92265"
      },
      "execution_count": 42,
      "outputs": [
        {
          "output_type": "execute_result",
          "data": {
            "text/plain": [
              "transaction_number          0\n",
              "user_id                     0\n",
              "payment_method              0\n",
              "partner_id                  0\n",
              "partner_category            0\n",
              "country                     0\n",
              "device_type                 0\n",
              "money_transacted            0\n",
              "transaction_initiation      0\n",
              "partner_pricing_category    0\n",
              "is_fraud                    0\n",
              "dtype: int64"
            ]
          },
          "metadata": {},
          "execution_count": 42
        }
      ]
    },
    {
      "cell_type": "code",
      "source": [
        "train.duplicated().sum()"
      ],
      "metadata": {
        "colab": {
          "base_uri": "https://localhost:8080/"
        },
        "id": "y2Z6yYmiDOAl",
        "outputId": "e192a6fd-75a6-430b-8fa6-ec96516d0d9f"
      },
      "execution_count": 43,
      "outputs": [
        {
          "output_type": "execute_result",
          "data": {
            "text/plain": [
              "0"
            ]
          },
          "metadata": {},
          "execution_count": 43
        }
      ]
    },
    {
      "cell_type": "code",
      "source": [
        "test.duplicated().sum()"
      ],
      "metadata": {
        "colab": {
          "base_uri": "https://localhost:8080/"
        },
        "id": "5klEwBqlDQ4m",
        "outputId": "62bba27d-2072-435c-bb1b-8acbb5883d61"
      },
      "execution_count": 44,
      "outputs": [
        {
          "output_type": "execute_result",
          "data": {
            "text/plain": [
              "0"
            ]
          },
          "metadata": {},
          "execution_count": 44
        }
      ]
    },
    {
      "cell_type": "code",
      "source": [
        "test.isna().sum()"
      ],
      "metadata": {
        "colab": {
          "base_uri": "https://localhost:8080/"
        },
        "id": "AGe5Y6mABP8P",
        "outputId": "abff632b-035c-4ba6-e6ab-cba83576381c"
      },
      "execution_count": 45,
      "outputs": [
        {
          "output_type": "execute_result",
          "data": {
            "text/plain": [
              "transaction_number          0\n",
              "user_id                     0\n",
              "payment_method              0\n",
              "partner_id                  0\n",
              "partner_category            0\n",
              "country                     0\n",
              "device_type                 0\n",
              "money_transacted            0\n",
              "transaction_initiation      0\n",
              "partner_pricing_category    0\n",
              "dtype: int64"
            ]
          },
          "metadata": {},
          "execution_count": 45
        }
      ]
    },
    {
      "cell_type": "markdown",
      "source": [
        "We can see that both train and test datasets have no null values"
      ],
      "metadata": {
        "id": "z5DfExA9_Ua5"
      }
    },
    {
      "cell_type": "code",
      "source": [
        "train.info()"
      ],
      "metadata": {
        "colab": {
          "base_uri": "https://localhost:8080/"
        },
        "id": "LUeJO3vgBPzG",
        "outputId": "d6fe17bd-6e1e-4004-e67c-f8b7476fb528"
      },
      "execution_count": 46,
      "outputs": [
        {
          "output_type": "stream",
          "name": "stdout",
          "text": [
            "<class 'pandas.core.frame.DataFrame'>\n",
            "RangeIndex: 76529 entries, 0 to 76528\n",
            "Data columns (total 11 columns):\n",
            " #   Column                    Non-Null Count  Dtype  \n",
            "---  ------                    --------------  -----  \n",
            " 0   transaction_number        76529 non-null  int64  \n",
            " 1   user_id                   76529 non-null  int64  \n",
            " 2   payment_method            76529 non-null  object \n",
            " 3   partner_id                76529 non-null  int64  \n",
            " 4   partner_category          76529 non-null  object \n",
            " 5   country                   76529 non-null  object \n",
            " 6   device_type               76529 non-null  object \n",
            " 7   money_transacted          76529 non-null  float64\n",
            " 8   transaction_initiation    76529 non-null  object \n",
            " 9   partner_pricing_category  76529 non-null  int64  \n",
            " 10  is_fraud                  76529 non-null  int64  \n",
            "dtypes: float64(1), int64(5), object(5)\n",
            "memory usage: 6.4+ MB\n"
          ]
        }
      ]
    },
    {
      "cell_type": "code",
      "source": [
        "test.info()"
      ],
      "metadata": {
        "colab": {
          "base_uri": "https://localhost:8080/"
        },
        "id": "Uvi6OAzUBPq5",
        "outputId": "ac82e1ea-de67-4546-f58c-1380bf416aaa"
      },
      "execution_count": 47,
      "outputs": [
        {
          "output_type": "stream",
          "name": "stdout",
          "text": [
            "<class 'pandas.core.frame.DataFrame'>\n",
            "RangeIndex: 19133 entries, 0 to 19132\n",
            "Data columns (total 10 columns):\n",
            " #   Column                    Non-Null Count  Dtype  \n",
            "---  ------                    --------------  -----  \n",
            " 0   transaction_number        19133 non-null  int64  \n",
            " 1   user_id                   19133 non-null  int64  \n",
            " 2   payment_method            19133 non-null  object \n",
            " 3   partner_id                19133 non-null  int64  \n",
            " 4   partner_category          19133 non-null  object \n",
            " 5   country                   19133 non-null  object \n",
            " 6   device_type               19133 non-null  object \n",
            " 7   money_transacted          19133 non-null  float64\n",
            " 8   transaction_initiation    19133 non-null  object \n",
            " 9   partner_pricing_category  19133 non-null  int64  \n",
            "dtypes: float64(1), int64(4), object(5)\n",
            "memory usage: 1.5+ MB\n"
          ]
        }
      ]
    },
    {
      "cell_type": "code",
      "source": [
        "train.nunique()"
      ],
      "metadata": {
        "colab": {
          "base_uri": "https://localhost:8080/"
        },
        "id": "DKTqqL2PDXIs",
        "outputId": "6d9557f4-f1e4-4b50-e1d7-80395e977eeb"
      },
      "execution_count": 48,
      "outputs": [
        {
          "output_type": "execute_result",
          "data": {
            "text/plain": [
              "transaction_number          76529\n",
              "user_id                      3594\n",
              "payment_method                  6\n",
              "partner_id                     23\n",
              "partner_category                9\n",
              "country                         1\n",
              "device_type                     4\n",
              "money_transacted             1454\n",
              "transaction_initiation      75811\n",
              "partner_pricing_category        4\n",
              "is_fraud                        2\n",
              "dtype: int64"
            ]
          },
          "metadata": {},
          "execution_count": 48
        }
      ]
    },
    {
      "cell_type": "code",
      "source": [
        "test.nunique()"
      ],
      "metadata": {
        "colab": {
          "base_uri": "https://localhost:8080/"
        },
        "id": "94ZDgeIKDZDP",
        "outputId": "099b7437-f920-4ffa-fe43-679dc285b130"
      },
      "execution_count": 49,
      "outputs": [
        {
          "output_type": "execute_result",
          "data": {
            "text/plain": [
              "transaction_number          19133\n",
              "user_id                      2617\n",
              "payment_method                  6\n",
              "partner_id                     20\n",
              "partner_category                8\n",
              "country                         1\n",
              "device_type                     4\n",
              "money_transacted              695\n",
              "transaction_initiation      19090\n",
              "partner_pricing_category        4\n",
              "dtype: int64"
            ]
          },
          "metadata": {},
          "execution_count": 49
        }
      ]
    },
    {
      "cell_type": "code",
      "source": [
        "train.value_counts(['is_fraud'], normalize=True)"
      ],
      "metadata": {
        "colab": {
          "base_uri": "https://localhost:8080/"
        },
        "id": "syulvQlFC_JH",
        "outputId": "340eed3d-1531-4f8b-b134-7dfaddd8c9e2"
      },
      "execution_count": 50,
      "outputs": [
        {
          "output_type": "execute_result",
          "data": {
            "text/plain": [
              "is_fraud\n",
              "0           0.997988\n",
              "1           0.002012\n",
              "dtype: float64"
            ]
          },
          "metadata": {},
          "execution_count": 50
        }
      ]
    },
    {
      "cell_type": "markdown",
      "source": [
        "Data is highly imbalanced majority of data belongs to class 0. Imbalanced ratio is 99:1 .\n",
        "\n",
        "\n"
      ],
      "metadata": {
        "id": "aTaQbFg4D0ma"
      }
    },
    {
      "cell_type": "markdown",
      "source": [
        "### Dropping Cols"
      ],
      "metadata": {
        "id": "e0_RoQpRvWNX"
      }
    },
    {
      "cell_type": "code",
      "source": [
        "train.drop(['transaction_number','country'], axis = 1, inplace = True)"
      ],
      "metadata": {
        "id": "vldy3ykvEXiz"
      },
      "execution_count": 51,
      "outputs": []
    },
    {
      "cell_type": "code",
      "source": [
        "\n",
        "test.drop(['transaction_number','country'], axis = 1, inplace = True)"
      ],
      "metadata": {
        "id": "d69KYwp5taKE"
      },
      "execution_count": 52,
      "outputs": []
    },
    {
      "cell_type": "code",
      "source": [
        "train.columns"
      ],
      "metadata": {
        "colab": {
          "base_uri": "https://localhost:8080/"
        },
        "id": "z-TF79C7Dtgs",
        "outputId": "1e04c24a-57fd-4a6e-d7d1-e3a4dfff9458"
      },
      "execution_count": 53,
      "outputs": [
        {
          "output_type": "execute_result",
          "data": {
            "text/plain": [
              "Index(['user_id', 'payment_method', 'partner_id', 'partner_category',\n",
              "       'device_type', 'money_transacted', 'transaction_initiation',\n",
              "       'partner_pricing_category', 'is_fraud'],\n",
              "      dtype='object')"
            ]
          },
          "metadata": {},
          "execution_count": 53
        }
      ]
    },
    {
      "cell_type": "markdown",
      "source": [
        "## Conversion into categorical"
      ],
      "metadata": {
        "id": "yhDEz1ESvZl6"
      }
    },
    {
      "cell_type": "code",
      "source": [
        "train_cat= ['payment_method','partner_category', 'device_type','transaction_initiation']\n",
        "train[train_cat]=train[train_cat].astype('category')"
      ],
      "metadata": {
        "id": "q8HKVpzfs78W"
      },
      "execution_count": 54,
      "outputs": []
    },
    {
      "cell_type": "code",
      "source": [
        "train_num = ['user_id','partner_id','money_transacted','partner_pricing_category']"
      ],
      "metadata": {
        "id": "CWMrre-YwQl6"
      },
      "execution_count": 55,
      "outputs": []
    },
    {
      "cell_type": "code",
      "source": [
        "test_cat =['payment_method','partner_category', 'device_type','transaction_initiation']\n",
        "test[test_cat]=test[test_cat].astype('category')"
      ],
      "metadata": {
        "id": "chgvnwgmwzPX"
      },
      "execution_count": 56,
      "outputs": []
    },
    {
      "cell_type": "code",
      "source": [
        "test_num = ['user_id','partner_id','money_transacted','partner_pricing_category']"
      ],
      "metadata": {
        "id": "SpvnCQd6xET6"
      },
      "execution_count": 57,
      "outputs": []
    },
    {
      "cell_type": "code",
      "source": [
        "train.dtypes"
      ],
      "metadata": {
        "colab": {
          "base_uri": "https://localhost:8080/"
        },
        "id": "GXVg9WP4xWme",
        "outputId": "591f6d50-90f0-414f-ba50-cd7eacee2dbe"
      },
      "execution_count": 58,
      "outputs": [
        {
          "output_type": "execute_result",
          "data": {
            "text/plain": [
              "user_id                        int64\n",
              "payment_method              category\n",
              "partner_id                     int64\n",
              "partner_category            category\n",
              "device_type                 category\n",
              "money_transacted             float64\n",
              "transaction_initiation      category\n",
              "partner_pricing_category       int64\n",
              "is_fraud                       int64\n",
              "dtype: object"
            ]
          },
          "metadata": {},
          "execution_count": 58
        }
      ]
    },
    {
      "cell_type": "code",
      "source": [
        "test.dtypes"
      ],
      "metadata": {
        "colab": {
          "base_uri": "https://localhost:8080/"
        },
        "id": "xEWU94FSxa_e",
        "outputId": "b0ea4cee-adc6-4b3b-f4ec-8dcca145055a"
      },
      "execution_count": 59,
      "outputs": [
        {
          "output_type": "execute_result",
          "data": {
            "text/plain": [
              "user_id                        int64\n",
              "payment_method              category\n",
              "partner_id                     int64\n",
              "partner_category            category\n",
              "device_type                 category\n",
              "money_transacted             float64\n",
              "transaction_initiation      category\n",
              "partner_pricing_category       int64\n",
              "dtype: object"
            ]
          },
          "metadata": {},
          "execution_count": 59
        }
      ]
    },
    {
      "cell_type": "markdown",
      "source": [
        "Outlier Detection"
      ],
      "metadata": {
        "id": "XDmc7cbvzIzO"
      }
    },
    {
      "cell_type": "code",
      "source": [
        "train[train_num].describe()\n",
        "Q1=train[train_num].quantile(0.25)\n",
        "Q3=train[train_num].quantile(0.75)\n",
        "IQR=Q3-Q1\n",
        "IQR\n",
        "((train[train_num]<(Q1-1.5*IQR)) | (train[train_num]>(Q3+1.5*IQR))).any()"
      ],
      "metadata": {
        "colab": {
          "base_uri": "https://localhost:8080/"
        },
        "id": "zFn5IMI6yQyN",
        "outputId": "ccd24202-85ed-4ddd-fa0c-b1f362af6025"
      },
      "execution_count": 60,
      "outputs": [
        {
          "output_type": "execute_result",
          "data": {
            "text/plain": [
              "user_id                     True\n",
              "partner_id                  True\n",
              "money_transacted            True\n",
              "partner_pricing_category    True\n",
              "dtype: bool"
            ]
          },
          "metadata": {},
          "execution_count": 60
        }
      ]
    },
    {
      "cell_type": "markdown",
      "source": [
        "## EDA"
      ],
      "metadata": {
        "id": "p6UnbOHDzMC0"
      }
    },
    {
      "cell_type": "code",
      "source": [
        "# Create count plot\n",
        "ax = sns.countplot(x=\"is_fraud\", data=train)\n",
        "\n",
        "# Add percentage labels\n",
        "total = len(train)\n",
        "for p in ax.patches:\n",
        "    percentage = '{:.1f}%'.format(100 * p.get_height()/total)\n",
        "    x = p.get_x() + 0.15\n",
        "    y = p.get_y() + p.get_height() + 0.5\n",
        "    ax.annotate(percentage, (x, y))\n",
        "\n",
        "# Show plot\n",
        "plt.show()"
      ],
      "metadata": {
        "colab": {
          "base_uri": "https://localhost:8080/",
          "height": 454
        },
        "id": "s7-HpzRm5G9i",
        "outputId": "76a3b716-afc9-4b40-d503-6a1c365fc1ae"
      },
      "execution_count": 61,
      "outputs": [
        {
          "output_type": "display_data",
          "data": {
            "text/plain": [
              "<Figure size 640x480 with 1 Axes>"
            ],
            "image/png": "[encoded data removed]"
          },
          "metadata": {}
        }
      ]
    },
    {
      "cell_type": "markdown",
      "source": [
        "We can see there is high imbalance in data, i.e, 99.8% as not fraud and 0.2% is fraud"
      ],
      "metadata": {
        "id": "1nybnb_N_i7d"
      }
    },
    {
      "cell_type": "code",
      "source": [
        "sns.heatmap(train[train_num].corr(),annot=True)"
      ],
      "metadata": {
        "colab": {
          "base_uri": "https://localhost:8080/",
          "height": 613
        },
        "id": "8uHpCwirypSn",
        "outputId": "aff8cdb7-250c-4df8-c3cf-c0e5afb9c993"
      },
      "execution_count": 62,
      "outputs": [
        {
          "output_type": "execute_result",
          "data": {
            "text/plain": [
              "<Axes: >"
            ]
          },
          "metadata": {},
          "execution_count": 62
        },
        {
          "output_type": "display_data",
          "data": {
            "text/plain": [
              "<Figure size 640x480 with 2 Axes>"
            ],
            "image/png": "[encoded data removed]"
          },
          "metadata": {}
        }
      ]
    },
    {
      "cell_type": "code",
      "source": [
        "# Count the occurrences of each categorical variable for train data\n",
        "counts = train['payment_method'].value_counts()\n",
        "\n",
        "# Get the labels and values\n",
        "labels = counts.index.tolist()\n",
        "values = counts.tolist()\n",
        "plt.figure(figsize=(6,6))\n",
        "\n",
        "plt.pie(values, \n",
        "        wedgeprops = { 'linewidth' : 1, 'edgecolor' : 'white' }, \n",
        "        autopct='%1.1f%%',)\n",
        "plt.legend(labels, loc='best', fontsize=8)\n",
        "\n",
        "plt.show()\n",
        "\n",
        "\n"
      ],
      "metadata": {
        "colab": {
          "base_uri": "https://localhost:8080/",
          "height": 499
        },
        "id": "4Rp_LmG-1Mi2",
        "outputId": "fbabbd3a-209e-467e-b267-9e435f647bd0"
      },
      "execution_count": 63,
      "outputs": [
        {
          "output_type": "display_data",
          "data": {
            "text/plain": [
              "<Figure size 600x600 with 1 Axes>"
            ],
            "image/png": "[encoded data removed]"
          },
          "metadata": {}
        }
      ]
    },
    {
      "cell_type": "markdown",
      "source": [
        "\n",
        "\n",
        "*   As we can see that transaction through sbi_atm_cum_debit_card and e_wallet_payments are preferred most\n",
        "*  unified_payments_interace is not used at all.\n",
        "\n"
      ],
      "metadata": {
        "id": "yfrpMfyqBwL_"
      }
    },
    {
      "cell_type": "code",
      "source": [
        "# Count the occurrences of each categorical variable for test data\n",
        "counts = test['payment_method'].value_counts()\n",
        "\n",
        "# Get the labels and values\n",
        "labels = counts.index.tolist()\n",
        "values = counts.tolist()\n",
        "plt.figure(figsize=(6,6))\n",
        "\n",
        "plt.pie(values, \n",
        "        wedgeprops = { 'linewidth' : 1, 'edgecolor' : 'white' }, \n",
        "        autopct='%1.1f%%',)\n",
        "plt.legend(labels, loc='best', fontsize=8)\n",
        "\n",
        "plt.show()\n",
        "\n"
      ],
      "metadata": {
        "colab": {
          "base_uri": "https://localhost:8080/",
          "height": 499
        },
        "id": "KJSaGkoNCuBo",
        "outputId": "a609b752-8e6a-4e63-eb01-834de124d082"
      },
      "execution_count": 64,
      "outputs": [
        {
          "output_type": "display_data",
          "data": {
            "text/plain": [
              "<Figure size 600x600 with 1 Axes>"
            ],
            "image/png": "[encoded data removed]"
          },
          "metadata": {}
        }
      ]
    },
    {
      "cell_type": "code",
      "source": [
        "# Count the occurrences of each categorical variable\n",
        "counts = train['device_type'].value_counts()\n",
        "\n",
        "# Get the labels and values\n",
        "labels = counts.index.tolist()\n",
        "values = counts.tolist()\n",
        "plt.figure(figsize=(8,8))\n",
        "\n",
        "plt.pie(values, \n",
        "        wedgeprops = { 'linewidth' : 1, 'edgecolor' : 'white' }, \n",
        "        autopct='%1.1f%%',)\n",
        "plt.legend(labels, loc='best', fontsize=8)\n",
        "\n",
        "plt.show()"
      ],
      "metadata": {
        "colab": {
          "base_uri": "https://localhost:8080/",
          "height": 653
        },
        "id": "KX0EOVgv3o9I",
        "outputId": "91d1ed02-1276-4ddc-ff13-0dbd1bb91ac1"
      },
      "execution_count": 65,
      "outputs": [
        {
          "output_type": "display_data",
          "data": {
            "text/plain": [
              "<Figure size 800x800 with 1 Axes>"
            ],
            "image/png": "[encoded data removed]"
          },
          "metadata": {}
        }
      ]
    },
    {
      "cell_type": "markdown",
      "source": [
        "\n",
        "\n",
        "* The most device types used here is android_devices  i.e., 59.5%\n",
        "\n",
        "* Windows pcs are least used - 0.6%"
      ],
      "metadata": {
        "id": "0Y-jsHtC_gri"
      }
    },
    {
      "cell_type": "code",
      "source": [
        "# Count the occurrences of each categorical variable\n",
        "counts = test['device_type'].value_counts()\n",
        "\n",
        "# Get the labels and values\n",
        "labels = counts.index.tolist()\n",
        "values = counts.tolist()\n",
        "plt.figure(figsize=(8,8))\n",
        "\n",
        "plt.pie(values, \n",
        "        wedgeprops = { 'linewidth' : 1, 'edgecolor' : 'white' }, \n",
        "        autopct='%1.1f%%',)\n",
        "plt.legend(labels, loc='best', fontsize=8)\n",
        "\n",
        "plt.show()"
      ],
      "metadata": {
        "colab": {
          "base_uri": "https://localhost:8080/",
          "height": 653
        },
        "id": "Vs_0m44TC6BB",
        "outputId": "84250b80-faf0-40fc-8e30-b42379daa0d4"
      },
      "execution_count": 66,
      "outputs": [
        {
          "output_type": "display_data",
          "data": {
            "text/plain": [
              "<Figure size 800x800 with 1 Axes>"
            ],
            "image/png": "[encoded data removed]"
          },
          "metadata": {}
        }
      ]
    },
    {
      "cell_type": "markdown",
      "source": [
        "## Feature Engineering for date and time"
      ],
      "metadata": {
        "id": "Z1TMnF5YCOZH"
      }
    },
    {
      "cell_type": "code",
      "source": [
        "train['transaction_initiation'] = pd.to_datetime(train['transaction_initiation'])\n",
        "test['transaction_initiation'] = pd.to_datetime(test['transaction_initiation'])"
      ],
      "metadata": {
        "id": "eb9nrp737Vhh"
      },
      "execution_count": 67,
      "outputs": []
    },
    {
      "cell_type": "code",
      "source": [
        "#for train data\n",
        "train['year'] = train['transaction_initiation'].dt.year           #extracting year\n",
        "train['month'] = train['transaction_initiation'].dt.month         #extracting month\n",
        "train['day'] = train['transaction_initiation'].dt.day              #extracting day\n",
        "train['time'] = train['transaction_initiation'].dt.time             #extracting time\n",
        "train.drop(columns='transaction_initiation', axis='column', inplace=True)"
      ],
      "metadata": {
        "id": "EiORmq-vCZv2"
      },
      "execution_count": 68,
      "outputs": []
    },
    {
      "cell_type": "code",
      "source": [
        "#for test data\n",
        "test['year'] = test['transaction_initiation'].dt.year\n",
        "test['month'] = test['transaction_initiation'].dt.month\n",
        "test['day'] = test['transaction_initiation'].dt.day\n",
        "test['time'] = test['transaction_initiation'].dt.time\n",
        "test.drop(columns='transaction_initiation', axis='column', inplace=True)"
      ],
      "metadata": {
        "id": "Hkf9Pu7TCkTX"
      },
      "execution_count": 69,
      "outputs": []
    },
    {
      "cell_type": "code",
      "source": [
        "train.columns"
      ],
      "metadata": {
        "colab": {
          "base_uri": "https://localhost:8080/"
        },
        "id": "XFcfBsi-DVEj",
        "outputId": "6e1a9300-cd16-4c68-fd15-7987ff17bbba"
      },
      "execution_count": 70,
      "outputs": [
        {
          "output_type": "execute_result",
          "data": {
            "text/plain": [
              "Index(['user_id', 'payment_method', 'partner_id', 'partner_category',\n",
              "       'device_type', 'money_transacted', 'partner_pricing_category',\n",
              "       'is_fraud', 'year', 'month', 'day', 'time'],\n",
              "      dtype='object')"
            ]
          },
          "metadata": {},
          "execution_count": 70
        }
      ]
    },
    {
      "cell_type": "code",
      "source": [
        "test.columns"
      ],
      "metadata": {
        "colab": {
          "base_uri": "https://localhost:8080/"
        },
        "id": "I6_T1NjpDYLS",
        "outputId": "a09ecbf9-1c4a-4da9-e79d-d923fd924043"
      },
      "execution_count": 71,
      "outputs": [
        {
          "output_type": "execute_result",
          "data": {
            "text/plain": [
              "Index(['user_id', 'payment_method', 'partner_id', 'partner_category',\n",
              "       'device_type', 'money_transacted', 'partner_pricing_category', 'year',\n",
              "       'month', 'day', 'time'],\n",
              "      dtype='object')"
            ]
          },
          "metadata": {},
          "execution_count": 71
        }
      ]
    },
    {
      "cell_type": "markdown",
      "source": [
        "\n",
        "\n",
        "*   We extracted year, month , date, time from transaction_inititation and we also dropped it.\n",
        "*   I'm also dropping one column from the new extracted feature to avoid redundancy\n",
        "\n"
      ],
      "metadata": {
        "id": "8ZpA2-BeDea4"
      }
    },
    {
      "cell_type": "code",
      "source": [
        "train.drop(columns='time', axis='column', inplace=True)"
      ],
      "metadata": {
        "id": "C6EragNMDZOG"
      },
      "execution_count": 72,
      "outputs": []
    },
    {
      "cell_type": "code",
      "source": [
        "test.drop(columns='time', axis='column', inplace=True)"
      ],
      "metadata": {
        "id": "gDvIJDHfFAxw"
      },
      "execution_count": 73,
      "outputs": []
    },
    {
      "cell_type": "code",
      "source": [
        "from sklearn.feature_selection import chi2\n"
      ],
      "metadata": {
        "id": "RLtjmuc7FDXM"
      },
      "execution_count": 74,
      "outputs": []
    },
    {
      "cell_type": "code",
      "source": [
        "sns.lineplot(x='month', y='money_transacted', data=train)"
      ],
      "metadata": {
        "colab": {
          "base_uri": "https://localhost:8080/",
          "height": 466
        },
        "id": "h7cYNvgAFK8e",
        "outputId": "fd12f62b-f2b8-4c9e-cad1-c0bb0f8dff98"
      },
      "execution_count": 75,
      "outputs": [
        {
          "output_type": "execute_result",
          "data": {
            "text/plain": [
              "<Axes: xlabel='month', ylabel='money_transacted'>"
            ]
          },
          "metadata": {},
          "execution_count": 75
        },
        {
          "output_type": "display_data",
          "data": {
            "text/plain": [
              "<Figure size 640x480 with 1 Axes>"
            ],
            "image/png": "[encoded data removed]"
          },
          "metadata": {}
        }
      ]
    },
    {
      "cell_type": "code",
      "source": [
        "fig, ax = plt.subplots()\n",
        "ax.bar(train['month'], train['money_transacted'])\n",
        "ax.set_xlabel('Month')\n",
        "ax.set_ylabel('Money Transacted')\n",
        "ax.set_title('Money Transacted by Month')"
      ],
      "metadata": {
        "colab": {
          "base_uri": "https://localhost:8080/",
          "height": 489
        },
        "id": "Z9aoFGq2Fc8j",
        "outputId": "4d585db1-59b5-41b2-bf57-6b03e7c793e2"
      },
      "execution_count": 78,
      "outputs": [
        {
          "output_type": "execute_result",
          "data": {
            "text/plain": [
              "Text(0.5, 1.0, 'Money Transacted by Month')"
            ]
          },
          "metadata": {},
          "execution_count": 78
        },
        {
          "output_type": "display_data",
          "data": {
            "text/plain": [
              "<Figure size 640x480 with 1 Axes>"
            ],
            "image/png": "[encoded data removed]"
          },
          "metadata": {}
        }
      ]
    },
    {
      "cell_type": "code",
      "source": [
        "fig, ax = plt.subplots()\n",
        "ax.bar(test['month'], test['money_transacted'])\n",
        "ax.set_xlabel('Month')\n",
        "ax.set_ylabel('Money Transacted')\n",
        "ax.set_title('Money Transacted by Month')"
      ],
      "metadata": {
        "colab": {
          "base_uri": "https://localhost:8080/",
          "height": 489
        },
        "id": "a2pbkFhGFo5Z",
        "outputId": "9c1978d0-7b74-4fc6-edd9-1b9e041df49b"
      },
      "execution_count": 79,
      "outputs": [
        {
          "output_type": "execute_result",
          "data": {
            "text/plain": [
              "Text(0.5, 1.0, 'Money Transacted by Month')"
            ]
          },
          "metadata": {},
          "execution_count": 79
        },
        {
          "output_type": "display_data",
          "data": {
            "text/plain": [
              "<Figure size 640x480 with 1 Axes>"
            ],
            "image/png": "[encoded data removed]"
          },
          "metadata": {}
        }
      ]
    },
    {
      "cell_type": "markdown",
      "source": [
        "\n",
        "\n",
        "*   Most transaction were made in the month of February for  both train data & test data\n",
        "\n",
        "\n"
      ],
      "metadata": {
        "id": "L87GfBYKGdoq"
      }
    },
    {
      "cell_type": "markdown",
      "source": [
        "# Chi Square"
      ],
      "metadata": {
        "id": "QnO_G2xGJs3u"
      }
    },
    {
      "cell_type": "code",
      "source": [
        "import pandas as pd\n",
        "from scipy.stats import chi2_contingency"
      ],
      "metadata": {
        "id": "3h15bUI0JJdX"
      },
      "execution_count": 80,
      "outputs": []
    },
    {
      "cell_type": "code",
      "source": [
        "contingency_table = pd.crosstab(train['payment_method'], train['is_fraud'])\n"
      ],
      "metadata": {
        "id": "oYqX0wZJIZLJ"
      },
      "execution_count": 81,
      "outputs": []
    },
    {
      "cell_type": "code",
      "source": [
        "chi2, p, dof, expected = chi2_contingency(contingency_table)\n"
      ],
      "metadata": {
        "id": "mEZA4owhIk6E"
      },
      "execution_count": 82,
      "outputs": []
    },
    {
      "cell_type": "code",
      "source": [
        "print(f\"Chi-square statistic: {chi2:.4f}\")\n",
        "print(f\"p-value: {p:.4f}\")\n",
        "print(f\"Degrees of freedom: {dof}\")\n",
        "print(\"Expected frequencies:\")\n",
        "print(expected)"
      ],
      "metadata": {
        "colab": {
          "base_uri": "https://localhost:8080/"
        },
        "id": "egAB4OgqIks4",
        "outputId": "5ad7eb47-57f4-44dc-de60-85177566d50e"
      },
      "execution_count": 83,
      "outputs": [
        {
          "output_type": "stream",
          "name": "stdout",
          "text": [
            "Chi-square statistic: 732.2125\n",
            "p-value: 0.0000\n",
            "Degrees of freedom: 5\n",
            "Expected frequencies:\n",
            "[[2.73288949e+04 5.51050713e+01]\n",
            " [4.48595467e+03 9.04532922e+00]\n",
            " [3.04765481e+04 6.14518941e+01]\n",
            " [1.49698154e+01 3.01846359e-02]\n",
            " [2.44906179e+03 4.93820643e+00]\n",
            " [1.16195707e+04 2.34293144e+01]]\n"
          ]
        }
      ]
    },
    {
      "cell_type": "markdown",
      "source": [
        " If the p-value is less than the significance level (usually 0.05), then we can reject the null hypothesis and conclude that there is a significant association between the two variables."
      ],
      "metadata": {
        "id": "1BODnu_mJVjM"
      }
    },
    {
      "cell_type": "markdown",
      "source": [
        "### Encoding"
      ],
      "metadata": {
        "id": "8LonPNc3Mnxk"
      }
    },
    {
      "cell_type": "code",
      "source": [
        "train_data_encoded = pd.get_dummies(train, columns=['partner_category','payment_method','device_type'])\n"
      ],
      "metadata": {
        "id": "0SL2ZoRGKNDF"
      },
      "execution_count": 84,
      "outputs": []
    },
    {
      "cell_type": "code",
      "source": [
        "test_data_encoded = pd.get_dummies(test, columns=['partner_category','payment_method','device_type'])\n"
      ],
      "metadata": {
        "id": "NJL_0RY2KOwB"
      },
      "execution_count": 85,
      "outputs": []
    },
    {
      "cell_type": "markdown",
      "source": [
        "####Splitting the data"
      ],
      "metadata": {
        "id": "xY2-Bx6OHRHF"
      }
    },
    {
      "cell_type": "code",
      "source": [
        "from sklearn.model_selection import train_test_split\n",
        "y=train_data_encoded['is_fraud']\n",
        "X=train_data_encoded.drop(['is_fraud'],axis=1)\n",
        "X_train,X_test,y_train,y_test=train_test_split(X,y,test_size=0.20,random_state=123)\n",
        "print(X_train.shape)\n",
        "print(X_test.shape)\n",
        "print(y_train.shape)\n",
        "print(y_test.shape)"
      ],
      "metadata": {
        "colab": {
          "base_uri": "https://localhost:8080/"
        },
        "id": "h8-31Hx0GyLi",
        "outputId": "d6aa0f98-f88c-4ebb-9b36-0f90fd601d0d"
      },
      "execution_count": 86,
      "outputs": [
        {
          "output_type": "stream",
          "name": "stdout",
          "text": [
            "(61223, 26)\n",
            "(15306, 26)\n",
            "(61223,)\n",
            "(15306,)\n"
          ]
        }
      ]
    },
    {
      "cell_type": "code",
      "source": [
        "train_data_encoded "
      ],
      "metadata": {
        "colab": {
          "base_uri": "https://localhost:8080/",
          "height": 487
        },
        "id": "A5AhVgliJXVH",
        "outputId": "6ca2c2bc-7b8d-4025-ba3e-e33be07fef7f"
      },
      "execution_count": 87,
      "outputs": [
        {
          "output_type": "execute_result",
          "data": {
            "text/plain": [
              "        user_id  partner_id  money_transacted  partner_pricing_category  \\\n",
              "0      17539344       47334              -5.0                         2   \n",
              "1      24710841       78890             100.0                         2   \n",
              "2      24265476       78890              50.0                         2   \n",
              "3      10240000      102557            1000.0                         2   \n",
              "4       5880625      118335             200.0                         2   \n",
              "...         ...         ...               ...                       ...   \n",
              "76524  19686969       47334            -100.0                         2   \n",
              "76525  11662225      118335             200.0                         2   \n",
              "76526    374544       47334              -3.5                         2   \n",
              "76527   1687401       47334             -20.0                         2   \n",
              "76528   6754801       47334            -100.0                         2   \n",
              "\n",
              "       is_fraud  year  month  day  partner_category_cat_1  \\\n",
              "0             0  2016     11   15                       1   \n",
              "1             0  2017      1   11                       0   \n",
              "2             0  2016     12    7                       0   \n",
              "3             0  2017      1   11                       0   \n",
              "4             0  2016     11   16                       1   \n",
              "...         ...   ...    ...  ...                     ...   \n",
              "76524         0  2016     11   30                       1   \n",
              "76525         0  2017      1    8                       1   \n",
              "76526         0  2016     12   26                       1   \n",
              "76527         0  2016     12   11                       1   \n",
              "76528         0  2017      1   11                       1   \n",
              "\n",
              "       partner_category_cat_2  ...  payment_method_e_wallet_payments  \\\n",
              "0                           0  ...                                 0   \n",
              "1                           1  ...                                 1   \n",
              "2                           1  ...                                 1   \n",
              "3                           0  ...                                 0   \n",
              "4                           0  ...                                 0   \n",
              "...                       ...  ...                               ...   \n",
              "76524                       0  ...                                 0   \n",
              "76525                       0  ...                                 0   \n",
              "76526                       0  ...                                 0   \n",
              "76527                       0  ...                                 0   \n",
              "76528                       0  ...                                 0   \n",
              "\n",
              "       payment_method_other_debit_cards  \\\n",
              "0                                     0   \n",
              "1                                     0   \n",
              "2                                     0   \n",
              "3                                     1   \n",
              "4                                     1   \n",
              "...                                 ...   \n",
              "76524                                 0   \n",
              "76525                                 0   \n",
              "76526                                 0   \n",
              "76527                                 0   \n",
              "76528                                 0   \n",
              "\n",
              "       payment_method_sbi_atm_cum_debit_card  \\\n",
              "0                                          1   \n",
              "1                                          0   \n",
              "2                                          0   \n",
              "3                                          0   \n",
              "4                                          0   \n",
              "...                                      ...   \n",
              "76524                                      1   \n",
              "76525                                      0   \n",
              "76526                                      1   \n",
              "76527                                      1   \n",
              "76528                                      1   \n",
              "\n",
              "       payment_method_unified_payments_interface  \\\n",
              "0                                              0   \n",
              "1                                              0   \n",
              "2                                              0   \n",
              "3                                              0   \n",
              "4                                              0   \n",
              "...                                          ...   \n",
              "76524                                          0   \n",
              "76525                                          0   \n",
              "76526                                          0   \n",
              "76527                                          0   \n",
              "76528                                          0   \n",
              "\n",
              "       payment_method_visa_master_credit_cards  \\\n",
              "0                                            0   \n",
              "1                                            0   \n",
              "2                                            0   \n",
              "3                                            0   \n",
              "4                                            0   \n",
              "...                                        ...   \n",
              "76524                                        0   \n",
              "76525                                        0   \n",
              "76526                                        0   \n",
              "76527                                        0   \n",
              "76528                                        0   \n",
              "\n",
              "       payment_method_visa_master_debit_cards  device_type_android_devices  \\\n",
              "0                                           0                            1   \n",
              "1                                           0                            0   \n",
              "2                                           0                            0   \n",
              "3                                           0                            0   \n",
              "4                                           0                            0   \n",
              "...                                       ...                          ...   \n",
              "76524                                       0                            1   \n",
              "76525                                       1                            0   \n",
              "76526                                       0                            1   \n",
              "76527                                       0                            1   \n",
              "76528                                       0                            1   \n",
              "\n",
              "       device_type_ios_devices  device_type_other_pcs  device_type_windows_pcs  \n",
              "0                            0                      0                        0  \n",
              "1                            0                      1                        0  \n",
              "2                            0                      1                        0  \n",
              "3                            0                      1                        0  \n",
              "4                            0                      1                        0  \n",
              "...                        ...                    ...                      ...  \n",
              "76524                        0                      0                        0  \n",
              "76525                        0                      1                        0  \n",
              "76526                        0                      0                        0  \n",
              "76527                        0                      0                        0  \n",
              "76528                        0                      0                        0  \n",
              "\n",
              "[76529 rows x 27 columns]"
            ],
            "text/html": [
              "\n",
              "  <div id=\"df-e0bed195-1edd-45e2-996c-8cfd4598a851\">\n",
              "    <div class=\"colab-df-container\">\n",
              "      <div>\n",
              "<style scoped>\n",
              "    .dataframe tbody tr th:only-of-type {\n",
              "        vertical-align: middle;\n",
              "    }\n",
              "\n",
              "    .dataframe tbody tr th {\n",
              "        vertical-align: top;\n",
              "    }\n",
              "\n",
              "    .dataframe thead th {\n",
              "        text-align: right;\n",
              "    }\n",
              "</style>\n",
              "<table border=\"1\" class=\"dataframe\">\n",
              "  <thead>\n",
              "    <tr style=\"text-align: right;\">\n",
              "      <th></th>\n",
              "      <th>user_id</th>\n",
              "      <th>partner_id</th>\n",
              "      <th>money_transacted</th>\n",
              "      <th>partner_pricing_category</th>\n",
              "      <th>is_fraud</th>\n",
              "      <th>year</th>\n",
              "      <th>month</th>\n",
              "      <th>day</th>\n",
              "      <th>partner_category_cat_1</th>\n",
              "      <th>partner_category_cat_2</th>\n",
              "      <th>...</th>\n",
              "      <th>payment_method_e_wallet_payments</th>\n",
              "      <th>payment_method_other_debit_cards</th>\n",
              "      <th>payment_method_sbi_atm_cum_debit_card</th>\n",
              "      <th>payment_method_unified_payments_interface</th>\n",
              "      <th>payment_method_visa_master_credit_cards</th>\n",
              "      <th>payment_method_visa_master_debit_cards</th>\n",
              "      <th>device_type_android_devices</th>\n",
              "      <th>device_type_ios_devices</th>\n",
              "      <th>device_type_other_pcs</th>\n",
              "      <th>device_type_windows_pcs</th>\n",
              "    </tr>\n",
              "  </thead>\n",
              "  <tbody>\n",
              "    <tr>\n",
              "      <th>0</th>\n",
              "      <td>17539344</td>\n",
              "      <td>47334</td>\n",
              "      <td>-5.0</td>\n",
              "      <td>2</td>\n",
              "      <td>0</td>\n",
              "      <td>2016</td>\n",
              "      <td>11</td>\n",
              "      <td>15</td>\n",
              "      <td>1</td>\n",
              "      <td>0</td>\n",
              "      <td>...</td>\n",
              "      <td>0</td>\n",
              "      <td>0</td>\n",
              "      <td>1</td>\n",
              "      <td>0</td>\n",
              "      <td>0</td>\n",
              "      <td>0</td>\n",
              "      <td>1</td>\n",
              "      <td>0</td>\n",
              "      <td>0</td>\n",
              "      <td>0</td>\n",
              "    </tr>\n",
              "    <tr>\n",
              "      <th>1</th>\n",
              "      <td>24710841</td>\n",
              "      <td>78890</td>\n",
              "      <td>100.0</td>\n",
              "      <td>2</td>\n",
              "      <td>0</td>\n",
              "      <td>2017</td>\n",
              "      <td>1</td>\n",
              "      <td>11</td>\n",
              "      <td>0</td>\n",
              "      <td>1</td>\n",
              "      <td>...</td>\n",
              "      <td>1</td>\n",
              "      <td>0</td>\n",
              "      <td>0</td>\n",
              "      <td>0</td>\n",
              "      <td>0</td>\n",
              "      <td>0</td>\n",
              "      <td>0</td>\n",
              "      <td>0</td>\n",
              "      <td>1</td>\n",
              "      <td>0</td>\n",
              "    </tr>\n",
              "    <tr>\n",
              "      <th>2</th>\n",
              "      <td>24265476</td>\n",
              "      <td>78890</td>\n",
              "      <td>50.0</td>\n",
              "      <td>2</td>\n",
              "      <td>0</td>\n",
              "      <td>2016</td>\n",
              "      <td>12</td>\n",
              "      <td>7</td>\n",
              "      <td>0</td>\n",
              "      <td>1</td>\n",
              "      <td>...</td>\n",
              "      <td>1</td>\n",
              "      <td>0</td>\n",
              "      <td>0</td>\n",
              "      <td>0</td>\n",
              "      <td>0</td>\n",
              "      <td>0</td>\n",
              "      <td>0</td>\n",
              "      <td>0</td>\n",
              "      <td>1</td>\n",
              "      <td>0</td>\n",
              "    </tr>\n",
              "    <tr>\n",
              "      <th>3</th>\n",
              "      <td>10240000</td>\n",
              "      <td>102557</td>\n",
              "      <td>1000.0</td>\n",
              "      <td>2</td>\n",
              "      <td>0</td>\n",
              "      <td>2017</td>\n",
              "      <td>1</td>\n",
              "      <td>11</td>\n",
              "      <td>0</td>\n",
              "      <td>0</td>\n",
              "      <td>...</td>\n",
              "      <td>0</td>\n",
              "      <td>1</td>\n",
              "      <td>0</td>\n",
              "      <td>0</td>\n",
              "      <td>0</td>\n",
              "      <td>0</td>\n",
              "      <td>0</td>\n",
              "      <td>0</td>\n",
              "      <td>1</td>\n",
              "      <td>0</td>\n",
              "    </tr>\n",
              "    <tr>\n",
              "      <th>4</th>\n",
              "      <td>5880625</td>\n",
              "      <td>118335</td>\n",
              "      <td>200.0</td>\n",
              "      <td>2</td>\n",
              "      <td>0</td>\n",
              "      <td>2016</td>\n",
              "      <td>11</td>\n",
              "      <td>16</td>\n",
              "      <td>1</td>\n",
              "      <td>0</td>\n",
              "      <td>...</td>\n",
              "      <td>0</td>\n",
              "      <td>1</td>\n",
              "      <td>0</td>\n",
              "      <td>0</td>\n",
              "      <td>0</td>\n",
              "      <td>0</td>\n",
              "      <td>0</td>\n",
              "      <td>0</td>\n",
              "      <td>1</td>\n",
              "      <td>0</td>\n",
              "    </tr>\n",
              "    <tr>\n",
              "      <th>...</th>\n",
              "      <td>...</td>\n",
              "      <td>...</td>\n",
              "      <td>...</td>\n",
              "      <td>...</td>\n",
              "      <td>...</td>\n",
              "      <td>...</td>\n",
              "      <td>...</td>\n",
              "      <td>...</td>\n",
              "      <td>...</td>\n",
              "      <td>...</td>\n",
              "      <td>...</td>\n",
              "      <td>...</td>\n",
              "      <td>...</td>\n",
              "      <td>...</td>\n",
              "      <td>...</td>\n",
              "      <td>...</td>\n",
              "      <td>...</td>\n",
              "      <td>...</td>\n",
              "      <td>...</td>\n",
              "      <td>...</td>\n",
              "      <td>...</td>\n",
              "    </tr>\n",
              "    <tr>\n",
              "      <th>76524</th>\n",
              "      <td>19686969</td>\n",
              "      <td>47334</td>\n",
              "      <td>-100.0</td>\n",
              "      <td>2</td>\n",
              "      <td>0</td>\n",
              "      <td>2016</td>\n",
              "      <td>11</td>\n",
              "      <td>30</td>\n",
              "      <td>1</td>\n",
              "      <td>0</td>\n",
              "      <td>...</td>\n",
              "      <td>0</td>\n",
              "      <td>0</td>\n",
              "      <td>1</td>\n",
              "      <td>0</td>\n",
              "      <td>0</td>\n",
              "      <td>0</td>\n",
              "      <td>1</td>\n",
              "      <td>0</td>\n",
              "      <td>0</td>\n",
              "      <td>0</td>\n",
              "    </tr>\n",
              "    <tr>\n",
              "      <th>76525</th>\n",
              "      <td>11662225</td>\n",
              "      <td>118335</td>\n",
              "      <td>200.0</td>\n",
              "      <td>2</td>\n",
              "      <td>0</td>\n",
              "      <td>2017</td>\n",
              "      <td>1</td>\n",
              "      <td>8</td>\n",
              "      <td>1</td>\n",
              "      <td>0</td>\n",
              "      <td>...</td>\n",
              "      <td>0</td>\n",
              "      <td>0</td>\n",
              "      <td>0</td>\n",
              "      <td>0</td>\n",
              "      <td>0</td>\n",
              "      <td>1</td>\n",
              "      <td>0</td>\n",
              "      <td>0</td>\n",
              "      <td>1</td>\n",
              "      <td>0</td>\n",
              "    </tr>\n",
              "    <tr>\n",
              "      <th>76526</th>\n",
              "      <td>374544</td>\n",
              "      <td>47334</td>\n",
              "      <td>-3.5</td>\n",
              "      <td>2</td>\n",
              "      <td>0</td>\n",
              "      <td>2016</td>\n",
              "      <td>12</td>\n",
              "      <td>26</td>\n",
              "      <td>1</td>\n",
              "      <td>0</td>\n",
              "      <td>...</td>\n",
              "      <td>0</td>\n",
              "      <td>0</td>\n",
              "      <td>1</td>\n",
              "      <td>0</td>\n",
              "      <td>0</td>\n",
              "      <td>0</td>\n",
              "      <td>1</td>\n",
              "      <td>0</td>\n",
              "      <td>0</td>\n",
              "      <td>0</td>\n",
              "    </tr>\n",
              "    <tr>\n",
              "      <th>76527</th>\n",
              "      <td>1687401</td>\n",
              "      <td>47334</td>\n",
              "      <td>-20.0</td>\n",
              "      <td>2</td>\n",
              "      <td>0</td>\n",
              "      <td>2016</td>\n",
              "      <td>12</td>\n",
              "      <td>11</td>\n",
              "      <td>1</td>\n",
              "      <td>0</td>\n",
              "      <td>...</td>\n",
              "      <td>0</td>\n",
              "      <td>0</td>\n",
              "      <td>1</td>\n",
              "      <td>0</td>\n",
              "      <td>0</td>\n",
              "      <td>0</td>\n",
              "      <td>1</td>\n",
              "      <td>0</td>\n",
              "      <td>0</td>\n",
              "      <td>0</td>\n",
              "    </tr>\n",
              "    <tr>\n",
              "      <th>76528</th>\n",
              "      <td>6754801</td>\n",
              "      <td>47334</td>\n",
              "      <td>-100.0</td>\n",
              "      <td>2</td>\n",
              "      <td>0</td>\n",
              "      <td>2017</td>\n",
              "      <td>1</td>\n",
              "      <td>11</td>\n",
              "      <td>1</td>\n",
              "      <td>0</td>\n",
              "      <td>...</td>\n",
              "      <td>0</td>\n",
              "      <td>0</td>\n",
              "      <td>1</td>\n",
              "      <td>0</td>\n",
              "      <td>0</td>\n",
              "      <td>0</td>\n",
              "      <td>1</td>\n",
              "      <td>0</td>\n",
              "      <td>0</td>\n",
              "      <td>0</td>\n",
              "    </tr>\n",
              "  </tbody>\n",
              "</table>\n",
              "<p>76529 rows × 27 columns</p>\n",
              "</div>\n",
              "      <button class=\"colab-df-convert\" onclick=\"convertToInteractive('df-e0bed195-1edd-45e2-996c-8cfd4598a851')\"\n",
              "              title=\"Convert this dataframe to an interactive table.\"\n",
              "              style=\"display:none;\">\n",
              "        \n",
              "  <svg xmlns=\"http://www.w3.org/2000/svg\" height=\"24px\"viewBox=\"0 0 24 24\"\n",
              "       width=\"24px\">\n",
              "    <path d=\"M0 0h24v24H0V0z\" fill=\"none\"/>\n",
              "    <path d=\"M18.56 5.44l.94 2.06.94-2.06 2.06-.94-2.06-.94-.94-2.06-.94 2.06-2.06.94zm-11 1L8.5 8.5l.94-2.06 2.06-.94-2.06-.94L8.5 2.5l-.94 2.06-2.06.94zm10 10l.94 2.06.94-2.06 2.06-.94-2.06-.94-.94-2.06-.94 2.06-2.06.94z\"/><path d=\"M17.41 7.96l-1.37-1.37c-.4-.4-.92-.59-1.43-.59-.52 0-1.04.2-1.43.59L10.3 9.45l-7.72 7.72c-.78.78-.78 2.05 0 2.83L4 21.41c.39.39.9.59 1.41.59.51 0 1.02-.2 1.41-.59l7.78-7.78 2.81-2.81c.8-.78.8-2.07 0-2.86zM5.41 20L4 18.59l7.72-7.72 1.47 1.35L5.41 20z\"/>\n",
              "  </svg>\n",
              "      </button>\n",
              "      \n",
              "  <style>\n",
              "    .colab-df-container {\n",
              "      display:flex;\n",
              "      flex-wrap:wrap;\n",
              "      gap: 12px;\n",
              "    }\n",
              "\n",
              "    .colab-df-convert {\n",
              "      background-color: #E8F0FE;\n",
              "      border: none;\n",
              "      border-radius: 50%;\n",
              "      cursor: pointer;\n",
              "      display: none;\n",
              "      fill: #1967D2;\n",
              "      height: 32px;\n",
              "      padding: 0 0 0 0;\n",
              "      width: 32px;\n",
              "    }\n",
              "\n",
              "    .colab-df-convert:hover {\n",
              "      background-color: #E2EBFA;\n",
              "      box-shadow: 0px 1px 2px rgba(60, 64, 67, 0.3), 0px 1px 3px 1px rgba(60, 64, 67, 0.15);\n",
              "      fill: #174EA6;\n",
              "    }\n",
              "\n",
              "    [theme=dark] .colab-df-convert {\n",
              "      background-color: #3B4455;\n",
              "      fill: #D2E3FC;\n",
              "    }\n",
              "\n",
              "    [theme=dark] .colab-df-convert:hover {\n",
              "      background-color: #434B5C;\n",
              "      box-shadow: 0px 1px 3px 1px rgba(0, 0, 0, 0.15);\n",
              "      filter: drop-shadow(0px 1px 2px rgba(0, 0, 0, 0.3));\n",
              "      fill: #FFFFFF;\n",
              "    }\n",
              "  </style>\n",
              "\n",
              "      <script>\n",
              "        const buttonEl =\n",
              "          document.querySelector('#df-e0bed195-1edd-45e2-996c-8cfd4598a851 button.colab-df-convert');\n",
              "        buttonEl.style.display =\n",
              "          google.colab.kernel.accessAllowed ? 'block' : 'none';\n",
              "\n",
              "        async function convertToInteractive(key) {\n",
              "          const element = document.querySelector('#df-e0bed195-1edd-45e2-996c-8cfd4598a851');\n",
              "          const dataTable =\n",
              "            await google.colab.kernel.invokeFunction('convertToInteractive',\n",
              "                                                     [key], {});\n",
              "          if (!dataTable) return;\n",
              "\n",
              "          const docLinkHtml = 'Like what you see? Visit the ' +\n",
              "            '<a target=\"_blank\" href=https://colab.research.google.com/notebooks/data_table.ipynb>data table notebook</a>'\n",
              "            + ' to learn more about interactive tables.';\n",
              "          element.innerHTML = '';\n",
              "          dataTable['output_type'] = 'display_data';\n",
              "          await google.colab.output.renderOutput(dataTable, element);\n",
              "          const docLink = document.createElement('div');\n",
              "          docLink.innerHTML = docLinkHtml;\n",
              "          element.appendChild(docLink);\n",
              "        }\n",
              "      </script>\n",
              "    </div>\n",
              "  </div>\n",
              "  "
            ]
          },
          "metadata": {},
          "execution_count": 87
        }
      ]
    },
    {
      "cell_type": "code",
      "source": [
        "from sklearn.preprocessing import StandardScaler\n",
        "scaler=StandardScaler()\n",
        "X_train_scaled=scaler.fit_transform(X_train)\n",
        "X_test_scaled=scaler.transform(X_test)"
      ],
      "metadata": {
        "id": "TEVBQvgYKxic"
      },
      "execution_count": 88,
      "outputs": []
    },
    {
      "cell_type": "code",
      "source": [
        "from sklearn.ensemble import RandomForestClassifier\n",
        "from sklearn.metrics import recall_score, classification_report, confusion_matrix, accuracy_score\n",
        "from sklearn.metrics import precision_recall_curve , auc , f1_score\n"
      ],
      "metadata": {
        "id": "mwmvdSwDOeIe"
      },
      "execution_count": 89,
      "outputs": []
    },
    {
      "cell_type": "code",
      "source": [
        "\n",
        "RF=RandomForestClassifier()\n",
        "RF.fit(X_train, y_train)\n",
        "y_pred = RF.predict(X_test)\n",
        "y_trains=RF.predict(X_train) \n",
        "\n",
        "\n",
        "print(accuracy_score(y_train, y_trains)*100)\n",
        "print(accuracy_score(y_test, y_pred)*100)\n",
        "print(confusion_matrix(y_test, y_pred))\n",
        "print(classification_report(y_test, y_pred))\n",
        "print(classification_report(y_train, y_trains))"
      ],
      "metadata": {
        "id": "jvd8OiCDK7B8",
        "outputId": "ba418b33-5ed9-43f9-ef59-91ae480e2a42",
        "colab": {
          "base_uri": "https://localhost:8080/"
        }
      },
      "execution_count": 90,
      "outputs": [
        {
          "output_type": "stream",
          "name": "stdout",
          "text": [
            "99.99509988076376\n",
            "99.92159937279497\n",
            "[[15266     3]\n",
            " [    9    28]]\n",
            "              precision    recall  f1-score   support\n",
            "\n",
            "           0       1.00      1.00      1.00     15269\n",
            "           1       0.90      0.76      0.82        37\n",
            "\n",
            "    accuracy                           1.00     15306\n",
            "   macro avg       0.95      0.88      0.91     15306\n",
            "weighted avg       1.00      1.00      1.00     15306\n",
            "\n",
            "              precision    recall  f1-score   support\n",
            "\n",
            "           0       1.00      1.00      1.00     61106\n",
            "           1       0.98      0.99      0.99       117\n",
            "\n",
            "    accuracy                           1.00     61223\n",
            "   macro avg       0.99      1.00      0.99     61223\n",
            "weighted avg       1.00      1.00      1.00     61223\n",
            "\n"
          ]
        }
      ]
    },
    {
      "cell_type": "code",
      "source": [
        "\n",
        "fpr, tpr, _ = metrics.roc_curve(y_test,  y_pred)\n",
        "\n",
        "#create ROC curve\n",
        "plt.plot(fpr,tpr)\n",
        "plt.ylabel('True Positive Rate')\n",
        "plt.xlabel('False Positive Rate')\n",
        "plt.show()\n",
        "auc = metrics.roc_auc_score(y_test, y_pred)\n",
        "#create ROC curve\n",
        "plt.plot(fpr,tpr,label=\"AUC=\"+str(auc))\n",
        "plt.ylabel('True Positive Rate')\n",
        "plt.xlabel('False Positive Rate')\n",
        "plt.legend(loc=4)\n",
        "plt.show()"
      ],
      "metadata": {
        "id": "P-R8zdRAK9VT",
        "outputId": "779606b9-80c1-4eed-8f79-b01b3847f49a",
        "colab": {
          "base_uri": "https://localhost:8080/",
          "height": 881
        }
      },
      "execution_count": 91,
      "outputs": [
        {
          "output_type": "display_data",
          "data": {
            "text/plain": [
              "<Figure size 640x480 with 1 Axes>"
            ],
            "image/png": "[encoded data removed]"
          },
          "metadata": {}
        },
        {
          "output_type": "display_data",
          "data": {
            "text/plain": [
              "<Figure size 640x480 with 1 Axes>"
            ],
            "image/png": "[encoded data removed]"
          },
          "metadata": {}
        }
      ]
    },
    {
      "cell_type": "code",
      "source": [],
      "metadata": {
        "id": "_CrtancdLZch"
      },
      "execution_count": null,
      "outputs": []
    }
  ]
}